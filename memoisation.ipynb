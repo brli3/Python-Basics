{
 "cells": [
  {
   "cell_type": "markdown",
   "metadata": {
    "collapsed": true
   },
   "source": [
    "## Memoisation"
   ]
  },
  {
   "cell_type": "markdown",
   "metadata": {},
   "source": [
    "### Fibonacci Sequnce\n",
    "1, 1, 2, 3, 5, 8, 13, 21, 34, 55， ...\n",
    "\n",
    "Returns nth term of Fibonacci Sequence."
   ]
  },
  {
   "cell_type": "code",
   "execution_count": 1,
   "metadata": {
    "collapsed": true
   },
   "outputs": [],
   "source": [
    "# Define a resursive function to evaluate\n",
    "def fibonacci(n):\n",
    "    if n == 1 or n == 2:\n",
    "        return 1\n",
    "    else:\n",
    "        return fibonacci(n-1) + fibonacci(n-2)"
   ]
  },
  {
   "cell_type": "code",
   "execution_count": 2,
   "metadata": {},
   "outputs": [
    {
     "name": "stdout",
     "output_type": "stream",
     "text": [
      "1 : 1\n",
      "2 : 1\n",
      "3 : 2\n",
      "4 : 3\n",
      "5 : 5\n",
      "6 : 8\n",
      "7 : 13\n",
      "8 : 21\n",
      "9 : 34\n",
      "10 : 55\n"
     ]
    }
   ],
   "source": [
    "# Print a sequence from 1 to 10\n",
    "for i in range(1, 11):\n",
    "    print(i, \":\", fibonacci(i))"
   ]
  },
  {
   "cell_type": "code",
   "execution_count": 3,
   "metadata": {},
   "outputs": [
    {
     "name": "stdout",
     "output_type": "stream",
     "text": [
      "1 : 1\n",
      "2 : 1\n",
      "3 : 2\n",
      "4 : 3\n",
      "5 : 5\n",
      "6 : 8\n",
      "7 : 13\n",
      "8 : 21\n",
      "9 : 34\n",
      "10 : 55\n",
      "11 : 89\n",
      "12 : 144\n",
      "13 : 233\n",
      "14 : 377\n",
      "15 : 610\n",
      "16 : 987\n",
      "17 : 1597\n",
      "18 : 2584\n",
      "19 : 4181\n",
      "20 : 6765\n",
      "21 : 10946\n",
      "22 : 17711\n",
      "23 : 28657\n",
      "24 : 46368\n",
      "25 : 75025\n",
      "26 : 121393\n",
      "27 : 196418\n",
      "28 : 317811\n",
      "29 : 514229\n",
      "30 : 832040\n",
      "31 : 1346269\n",
      "32 : 2178309\n",
      "33 : 3524578\n",
      "34 : 5702887\n",
      "35 : 9227465\n",
      "36 : 14930352\n",
      "37 : 24157817\n",
      "38 : 39088169\n",
      "39 : 63245986\n",
      "40 : 102334155\n"
     ]
    }
   ],
   "source": [
    "# Print a sequence from 1 to 40\n",
    "for i in range(1, 41):\n",
    "    print(i, \":\", fibonacci(i))"
   ]
  },
  {
   "cell_type": "markdown",
   "metadata": {},
   "source": [
    "We can see that the function is much slower as the number gets larger. This is because the function calls itself every time until n=1 and n=2. It is expensive.\n",
    "\n",
    "A good idea is to store the recent function values so that the function does not have to repeate every time."
   ]
  },
  {
   "cell_type": "code",
   "execution_count": 4,
   "metadata": {
    "collapsed": true
   },
   "outputs": [],
   "source": [
    "# Create a dictionary to store recent function calls.\n",
    "fibonacci_cache = {}\n",
    "# Rewrite th e\n",
    "def fibonacci(n):\n",
    "    # If a cached value is present, then return it\n",
    "    if n in fibonacci_cache:\n",
    "        return fibonacci_cache[n]\n",
    "    # Compute the nth term\n",
    "    if n == 1 or n == 2:\n",
    "        value = 1\n",
    "    else:\n",
    "        value = fibonacci(n-1) + fibonacci(n-2)\n",
    "        \n",
    "    # Cache the value and return\n",
    "    fibonacci_cache[n] = value\n",
    "    return value"
   ]
  },
  {
   "cell_type": "code",
   "execution_count": 5,
   "metadata": {},
   "outputs": [
    {
     "name": "stdout",
     "output_type": "stream",
     "text": [
      "1 : 1\n",
      "2 : 1\n",
      "3 : 2\n",
      "4 : 3\n",
      "5 : 5\n",
      "6 : 8\n",
      "7 : 13\n",
      "8 : 21\n",
      "9 : 34\n",
      "10 : 55\n",
      "11 : 89\n",
      "12 : 144\n",
      "13 : 233\n",
      "14 : 377\n",
      "15 : 610\n",
      "16 : 987\n",
      "17 : 1597\n",
      "18 : 2584\n",
      "19 : 4181\n",
      "20 : 6765\n",
      "21 : 10946\n",
      "22 : 17711\n",
      "23 : 28657\n",
      "24 : 46368\n",
      "25 : 75025\n",
      "26 : 121393\n",
      "27 : 196418\n",
      "28 : 317811\n",
      "29 : 514229\n",
      "30 : 832040\n",
      "31 : 1346269\n",
      "32 : 2178309\n",
      "33 : 3524578\n",
      "34 : 5702887\n",
      "35 : 9227465\n",
      "36 : 14930352\n",
      "37 : 24157817\n",
      "38 : 39088169\n",
      "39 : 63245986\n",
      "40 : 102334155\n",
      "41 : 165580141\n",
      "42 : 267914296\n",
      "43 : 433494437\n",
      "44 : 701408733\n",
      "45 : 1134903170\n",
      "46 : 1836311903\n",
      "47 : 2971215073\n",
      "48 : 4807526976\n",
      "49 : 7778742049\n",
      "50 : 12586269025\n",
      "51 : 20365011074\n",
      "52 : 32951280099\n",
      "53 : 53316291173\n",
      "54 : 86267571272\n",
      "55 : 139583862445\n",
      "56 : 225851433717\n",
      "57 : 365435296162\n",
      "58 : 591286729879\n",
      "59 : 956722026041\n",
      "60 : 1548008755920\n",
      "61 : 2504730781961\n",
      "62 : 4052739537881\n",
      "63 : 6557470319842\n",
      "64 : 10610209857723\n",
      "65 : 17167680177565\n",
      "66 : 27777890035288\n",
      "67 : 44945570212853\n",
      "68 : 72723460248141\n",
      "69 : 117669030460994\n",
      "70 : 190392490709135\n",
      "71 : 308061521170129\n",
      "72 : 498454011879264\n",
      "73 : 806515533049393\n",
      "74 : 1304969544928657\n",
      "75 : 2111485077978050\n",
      "76 : 3416454622906707\n",
      "77 : 5527939700884757\n",
      "78 : 8944394323791464\n",
      "79 : 14472334024676221\n",
      "80 : 23416728348467685\n",
      "81 : 37889062373143906\n",
      "82 : 61305790721611591\n",
      "83 : 99194853094755497\n",
      "84 : 160500643816367088\n",
      "85 : 259695496911122585\n",
      "86 : 420196140727489673\n",
      "87 : 679891637638612258\n",
      "88 : 1100087778366101931\n",
      "89 : 1779979416004714189\n",
      "90 : 2880067194370816120\n",
      "91 : 4660046610375530309\n",
      "92 : 7540113804746346429\n",
      "93 : 12200160415121876738\n",
      "94 : 19740274219868223167\n",
      "95 : 31940434634990099905\n",
      "96 : 51680708854858323072\n",
      "97 : 83621143489848422977\n",
      "98 : 135301852344706746049\n",
      "99 : 218922995834555169026\n",
      "100 : 354224848179261915075\n"
     ]
    }
   ],
   "source": [
    "# n = 100\n",
    "for n in range(1,101):\n",
    "    print(n, \":\", fibonacci(n))"
   ]
  },
  {
   "cell_type": "code",
   "execution_count": 6,
   "metadata": {
    "collapsed": true
   },
   "outputs": [],
   "source": [
    "# LRU Cache: Least Recent Used Cache\n",
    "from functools import lru_cache\n",
    "\n",
    "@lru_cache(maxsize = 1000)  # default is 125\n",
    "\n",
    "def fibonacci(n):\n",
    "    if n == 1 or n == 2:\n",
    "        return 1\n",
    "    else:\n",
    "        return fibonacci(n-1) + fibonacci(n-2)"
   ]
  },
  {
   "cell_type": "code",
   "execution_count": 7,
   "metadata": {},
   "outputs": [
    {
     "name": "stdout",
     "output_type": "stream",
     "text": [
      "1 : 1\n",
      "2 : 1\n",
      "3 : 2\n",
      "4 : 3\n",
      "5 : 5\n",
      "6 : 8\n",
      "7 : 13\n",
      "8 : 21\n",
      "9 : 34\n",
      "10 : 55\n",
      "11 : 89\n",
      "12 : 144\n",
      "13 : 233\n",
      "14 : 377\n",
      "15 : 610\n",
      "16 : 987\n",
      "17 : 1597\n",
      "18 : 2584\n",
      "19 : 4181\n",
      "20 : 6765\n",
      "21 : 10946\n",
      "22 : 17711\n",
      "23 : 28657\n",
      "24 : 46368\n",
      "25 : 75025\n",
      "26 : 121393\n",
      "27 : 196418\n",
      "28 : 317811\n",
      "29 : 514229\n",
      "30 : 832040\n",
      "31 : 1346269\n",
      "32 : 2178309\n",
      "33 : 3524578\n",
      "34 : 5702887\n",
      "35 : 9227465\n",
      "36 : 14930352\n",
      "37 : 24157817\n",
      "38 : 39088169\n",
      "39 : 63245986\n",
      "40 : 102334155\n",
      "41 : 165580141\n",
      "42 : 267914296\n",
      "43 : 433494437\n",
      "44 : 701408733\n",
      "45 : 1134903170\n",
      "46 : 1836311903\n",
      "47 : 2971215073\n",
      "48 : 4807526976\n",
      "49 : 7778742049\n",
      "50 : 12586269025\n",
      "51 : 20365011074\n",
      "52 : 32951280099\n",
      "53 : 53316291173\n",
      "54 : 86267571272\n",
      "55 : 139583862445\n",
      "56 : 225851433717\n",
      "57 : 365435296162\n",
      "58 : 591286729879\n",
      "59 : 956722026041\n",
      "60 : 1548008755920\n",
      "61 : 2504730781961\n",
      "62 : 4052739537881\n",
      "63 : 6557470319842\n",
      "64 : 10610209857723\n",
      "65 : 17167680177565\n",
      "66 : 27777890035288\n",
      "67 : 44945570212853\n",
      "68 : 72723460248141\n",
      "69 : 117669030460994\n",
      "70 : 190392490709135\n",
      "71 : 308061521170129\n",
      "72 : 498454011879264\n",
      "73 : 806515533049393\n",
      "74 : 1304969544928657\n",
      "75 : 2111485077978050\n",
      "76 : 3416454622906707\n",
      "77 : 5527939700884757\n",
      "78 : 8944394323791464\n",
      "79 : 14472334024676221\n",
      "80 : 23416728348467685\n",
      "81 : 37889062373143906\n",
      "82 : 61305790721611591\n",
      "83 : 99194853094755497\n",
      "84 : 160500643816367088\n",
      "85 : 259695496911122585\n",
      "86 : 420196140727489673\n",
      "87 : 679891637638612258\n",
      "88 : 1100087778366101931\n",
      "89 : 1779979416004714189\n",
      "90 : 2880067194370816120\n",
      "91 : 4660046610375530309\n",
      "92 : 7540113804746346429\n",
      "93 : 12200160415121876738\n",
      "94 : 19740274219868223167\n",
      "95 : 31940434634990099905\n",
      "96 : 51680708854858323072\n",
      "97 : 83621143489848422977\n",
      "98 : 135301852344706746049\n",
      "99 : 218922995834555169026\n",
      "100 : 354224848179261915075\n"
     ]
    }
   ],
   "source": [
    "for n in range(1, 101):\n",
    "    print(n, \":\", fibonacci(n))"
   ]
  },
  {
   "cell_type": "markdown",
   "metadata": {},
   "source": [
    "Note that the function fails if a non-integer type is passed in. We can modify it to raise error when this happens."
   ]
  },
  {
   "cell_type": "code",
   "execution_count": 8,
   "metadata": {
    "collapsed": true
   },
   "outputs": [],
   "source": [
    "# LRU Cache: Least Recent Used Cache\n",
    "from functools import lru_cache\n",
    "\n",
    "@lru_cache(maxsize = 1000)  # default is 125\n",
    "\n",
    "def fibonacci(n):\n",
    "    if type(n) != int:\n",
    "        raise TypeError(\"n is not a positive int\")\n",
    "    elif n < 1:\n",
    "        raise ValueError(\"n is not a positive int\")\n",
    "    if n == 1 or n == 2:\n",
    "        return 1\n",
    "    else:\n",
    "        return fibonacci(n-1) + fibonacci(n-2)"
   ]
  },
  {
   "cell_type": "code",
   "execution_count": 9,
   "metadata": {},
   "outputs": [
    {
     "ename": "ValueError",
     "evalue": "n is not a positive int",
     "output_type": "error",
     "traceback": [
      "\u001b[1;31m---------------------------------------------------------------------------\u001b[0m",
      "\u001b[1;31mValueError\u001b[0m                                Traceback (most recent call last)",
      "\u001b[1;32m<ipython-input-9-b28a98422eab>\u001b[0m in \u001b[0;36m<module>\u001b[1;34m()\u001b[0m\n\u001b[1;32m----> 1\u001b[1;33m \u001b[0mfibonacci\u001b[0m\u001b[1;33m(\u001b[0m\u001b[1;33m-\u001b[0m\u001b[1;36m2\u001b[0m\u001b[1;33m)\u001b[0m\u001b[1;33m\u001b[0m\u001b[0m\n\u001b[0m",
      "\u001b[1;32m<ipython-input-8-bfef7a8f7e7b>\u001b[0m in \u001b[0;36mfibonacci\u001b[1;34m(n)\u001b[0m\n\u001b[0;32m      8\u001b[0m         \u001b[1;32mraise\u001b[0m \u001b[0mTypeError\u001b[0m\u001b[1;33m(\u001b[0m\u001b[1;34m\"n is not a positive int\"\u001b[0m\u001b[1;33m)\u001b[0m\u001b[1;33m\u001b[0m\u001b[0m\n\u001b[0;32m      9\u001b[0m     \u001b[1;32melif\u001b[0m \u001b[0mn\u001b[0m \u001b[1;33m<\u001b[0m \u001b[1;36m1\u001b[0m\u001b[1;33m:\u001b[0m\u001b[1;33m\u001b[0m\u001b[0m\n\u001b[1;32m---> 10\u001b[1;33m         \u001b[1;32mraise\u001b[0m \u001b[0mValueError\u001b[0m\u001b[1;33m(\u001b[0m\u001b[1;34m\"n is not a positive int\"\u001b[0m\u001b[1;33m)\u001b[0m\u001b[1;33m\u001b[0m\u001b[0m\n\u001b[0m\u001b[0;32m     11\u001b[0m     \u001b[1;32mif\u001b[0m \u001b[0mn\u001b[0m \u001b[1;33m==\u001b[0m \u001b[1;36m1\u001b[0m \u001b[1;32mor\u001b[0m \u001b[0mn\u001b[0m \u001b[1;33m==\u001b[0m \u001b[1;36m2\u001b[0m\u001b[1;33m:\u001b[0m\u001b[1;33m\u001b[0m\u001b[0m\n\u001b[0;32m     12\u001b[0m         \u001b[1;32mreturn\u001b[0m \u001b[1;36m1\u001b[0m\u001b[1;33m\u001b[0m\u001b[0m\n",
      "\u001b[1;31mValueError\u001b[0m: n is not a positive int"
     ]
    }
   ],
   "source": [
    "fibonacci(-2)"
   ]
  },
  {
   "cell_type": "markdown",
   "metadata": {},
   "source": [
    "Let's see how fast the series grows by computing the ratio between two adjacent elements."
   ]
  },
  {
   "cell_type": "code",
   "execution_count": 10,
   "metadata": {
    "scrolled": true
   },
   "outputs": [
    {
     "name": "stdout",
     "output_type": "stream",
     "text": [
      "1.0\n",
      "2.0\n",
      "1.5\n",
      "1.6666666666666667\n",
      "1.6\n",
      "1.625\n",
      "1.6153846153846154\n",
      "1.619047619047619\n",
      "1.6176470588235294\n",
      "1.6181818181818182\n",
      "1.6179775280898876\n",
      "1.6180555555555556\n",
      "1.6180257510729614\n",
      "1.6180371352785146\n",
      "1.618032786885246\n",
      "1.618034447821682\n",
      "1.6180338134001253\n",
      "1.618034055727554\n",
      "1.6180339631667064\n",
      "1.6180339985218033\n",
      "1.618033985017358\n",
      "1.6180339901755971\n",
      "1.618033988205325\n",
      "1.618033988957902\n",
      "1.6180339886704431\n",
      "1.6180339887802426\n",
      "1.618033988738303\n",
      "1.6180339887543225\n",
      "1.6180339887482036\n",
      "1.6180339887505408\n",
      "1.6180339887496482\n",
      "1.618033988749989\n",
      "1.618033988749859\n",
      "1.6180339887499087\n",
      "1.6180339887498896\n",
      "1.618033988749897\n",
      "1.618033988749894\n",
      "1.6180339887498951\n",
      "1.6180339887498947\n",
      "1.618033988749895\n",
      "1.618033988749895\n",
      "1.618033988749895\n",
      "1.618033988749895\n",
      "1.618033988749895\n",
      "1.618033988749895\n",
      "1.618033988749895\n",
      "1.618033988749895\n",
      "1.618033988749895\n",
      "1.618033988749895\n",
      "1.618033988749895\n"
     ]
    }
   ],
   "source": [
    "for n in range(1, 51):\n",
    "    print(fibonacci(n+1) / fibonacci(n))"
   ]
  },
  {
   "cell_type": "markdown",
   "metadata": {},
   "source": [
    "The number converges to $\\sqrt{5}/5$, the **golden ratio*."
   ]
  }
 ],
 "metadata": {
  "kernelspec": {
   "display_name": "Python 3",
   "language": "python",
   "name": "python3"
  },
  "language_info": {
   "codemirror_mode": {
    "name": "ipython",
    "version": 3
   },
   "file_extension": ".py",
   "mimetype": "text/x-python",
   "name": "python",
   "nbconvert_exporter": "python",
   "pygments_lexer": "ipython3",
   "version": "3.6.1"
  }
 },
 "nbformat": 4,
 "nbformat_minor": 2
}
