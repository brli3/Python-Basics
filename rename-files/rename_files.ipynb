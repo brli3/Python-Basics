{
 "cells": [
  {
   "cell_type": "markdown",
   "metadata": {},
   "source": [
    "# Script to Rename Files"
   ]
  },
  {
   "cell_type": "code",
   "execution_count": 21,
   "metadata": {
    "collapsed": true
   },
   "outputs": [],
   "source": [
    "import os"
   ]
  },
  {
   "cell_type": "code",
   "execution_count": 22,
   "metadata": {},
   "outputs": [
    {
     "name": "stdout",
     "output_type": "stream",
     "text": [
      "Help on built-in function getcwd in module posix:\n",
      "\n",
      "getcwd()\n",
      "    Return a unicode string representing the current working directory.\n",
      "\n"
     ]
    }
   ],
   "source": [
    "help(os.getcwd)"
   ]
  },
  {
   "cell_type": "code",
   "execution_count": 23,
   "metadata": {},
   "outputs": [],
   "source": [
    "#path = os.getcwd()"
   ]
  },
  {
   "cell_type": "code",
   "execution_count": 24,
   "metadata": {
    "collapsed": true
   },
   "outputs": [],
   "source": [
    "#filenames = os.listdir(path)\n",
    "filenames = os.listdir()"
   ]
  },
  {
   "cell_type": "code",
   "execution_count": 25,
   "metadata": {},
   "outputs": [
    {
     "name": "stdout",
     "output_type": "stream",
     "text": [
      "Current files:  ['test_2.txt', 'rename_files.ipynb', 'test-1', '.ipynb_checkpoints'],"
     ]
    }
   ],
   "source": [
    "print('Current files: ', filenames, end=',')"
   ]
  },
  {
   "cell_type": "code",
   "execution_count": 26,
   "metadata": {
    "collapsed": true
   },
   "outputs": [],
   "source": [
    "for filename in filenames:\n",
    "    if os.path.isfile(filename):\n",
    "        os.rename(filename, filename.replace(\" \", \"_\").lower())\n",
    "    elif os.path.isdir(filename):\n",
    "        os.rename(filename, filename.replace(\" \", \"-\").lower())\n",
    "    else:\n",
    "        pass"
   ]
  },
  {
   "cell_type": "code",
   "execution_count": 27,
   "metadata": {},
   "outputs": [
    {
     "name": "stdout",
     "output_type": "stream",
     "text": [
      "files:  ['test_2.txt', 'rename_files.ipynb', 'test-1', '.ipynb_checkpoints'],"
     ]
    }
   ],
   "source": [
    "print('files: ', filenames, end=',')"
   ]
  }
 ],
 "metadata": {
  "kernelspec": {
   "display_name": "Python 3",
   "language": "python",
   "name": "python3"
  },
  "language_info": {
   "codemirror_mode": {
    "name": "ipython",
    "version": 3
   },
   "file_extension": ".py",
   "mimetype": "text/x-python",
   "name": "python",
   "nbconvert_exporter": "python",
   "pygments_lexer": "ipython3",
   "version": "3.6.1"
  }
 },
 "nbformat": 4,
 "nbformat_minor": 2
}
