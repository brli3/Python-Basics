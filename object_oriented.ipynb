{
 "cells": [
  {
   "cell_type": "markdown",
   "metadata": {
    "collapsed": true
   },
   "source": [
    "## Class"
   ]
  },
  {
   "cell_type": "code",
   "execution_count": 1,
   "metadata": {},
   "outputs": [
    {
     "name": "stdout",
     "output_type": "stream",
     "text": [
      "<__main__.Person object at 0x000001F6BD1D99B0>\n",
      "new name\n",
      "9 2\n",
      "left value: 2.0\n",
      "Print left and right values:  2.5 3.0\n",
      "2\n"
     ]
    }
   ],
   "source": [
    "# Example 1\n",
    "class Person:\n",
    "    var = 0\n",
    "    \n",
    "    def __init__(self, left, right):\n",
    "        self.l = left\n",
    "        self.r = right\n",
    "        Person.var += 1\n",
    "    \n",
    "    def printf(self): # has a extra variable \"self\" in the definition\n",
    "        print(\"Print left and right values: \", self.l, self.r)\n",
    "\n",
    "p1 = Person(2., 3.)\n",
    "p2 = Person(4., 5.)\n",
    "print(p1)\n",
    "p2.name = \"new name\"\n",
    "print(p2.name)\n",
    "p1.var = 9\n",
    "print(p1.var, p2.var)\n",
    "print(\"left value:\", p1.l)\n",
    "p1.l = 2.5\n",
    "p1.printf()\n",
    "print(p2.var)"
   ]
  },
  {
   "cell_type": "code",
   "execution_count": 2,
   "metadata": {},
   "outputs": [
    {
     "name": "stdout",
     "output_type": "stream",
     "text": [
      "First name:  Matthew\n",
      "Middle name(s):  ['Thomas', 'James']\n",
      "Last name:  Eddie\n",
      "Birthday:  19852158\n"
     ]
    }
   ],
   "source": [
    "# Example 2\n",
    "class User:\n",
    "    def __init__(self, name, birthday):\n",
    "        self.name = name\n",
    "        self.birthday = birthday\n",
    "        \n",
    "        # Extract first and last names\n",
    "        name_split = name.split(\" \")\n",
    "        self.first_name = name_split[0]\n",
    "        self.middle_name = name_split[1:-1]\n",
    "        self.last_name = name_split[-1]\n",
    "        \n",
    "user = User(\"Matthew Thomas James Eddie\", \"19852158\")\n",
    "print(\"First name: \", user.first_name)\n",
    "print(\"Middle name(s): \", user.middle_name)\n",
    "print(\"Last name: \", user.last_name)\n",
    "print(\"Birthday: \", user.birthday)"
   ]
  },
  {
   "cell_type": "code",
   "execution_count": null,
   "metadata": {
    "collapsed": true
   },
   "outputs": [],
   "source": []
  }
 ],
 "metadata": {
  "kernelspec": {
   "display_name": "Python 3",
   "language": "python",
   "name": "python3"
  },
  "language_info": {
   "codemirror_mode": {
    "name": "ipython",
    "version": 3
   },
   "file_extension": ".py",
   "mimetype": "text/x-python",
   "name": "python",
   "nbconvert_exporter": "python",
   "pygments_lexer": "ipython3",
   "version": "3.6.1"
  }
 },
 "nbformat": 4,
 "nbformat_minor": 2
}
