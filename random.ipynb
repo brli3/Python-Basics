{
 "cells": [
  {
   "cell_type": "markdown",
   "metadata": {
    "collapsed": true
   },
   "source": [
    "# Python Basics - Random"
   ]
  },
  {
   "cell_type": "markdown",
   "metadata": {
    "collapsed": true
   },
   "source": [
    "## Random Number Generator"
   ]
  },
  {
   "cell_type": "code",
   "execution_count": 1,
   "metadata": {
    "collapsed": true
   },
   "outputs": [],
   "source": [
    "import random\n",
    "%matplotlib inline\n",
    "import matplotlib.pyplot as plt"
   ]
  },
  {
   "cell_type": "code",
   "execution_count": 3,
   "metadata": {},
   "outputs": [
    {
     "name": "stdout",
     "output_type": "stream",
     "text": [
      "Help on built-in function random:\n",
      "\n",
      "random(...) method of random.Random instance\n",
      "    random() -> x in the interval [0, 1).\n",
      "\n"
     ]
    }
   ],
   "source": [
    "help(random.random)"
   ]
  },
  {
   "cell_type": "code",
   "execution_count": 4,
   "metadata": {},
   "outputs": [
    {
     "name": "stdout",
     "output_type": "stream",
     "text": [
      "0.3231489021855486\n",
      "0.8135889924621144\n",
      "0.44872032920415206\n",
      "0.935586241625617\n",
      "0.9075496963630381\n",
      "0.5724731005377958\n",
      "0.36461368916204906\n",
      "0.8295244365357487\n",
      "0.6757601189160162\n",
      "0.8252501479925877\n"
     ]
    }
   ],
   "source": [
    "# Display 10 random numbers from interval [0, 1)\n",
    "for i in range(10):\n",
    "    print(random.random())"
   ]
  },
  {
   "cell_type": "code",
   "execution_count": 5,
   "metadata": {},
   "outputs": [
    {
     "name": "stdout",
     "output_type": "stream",
     "text": [
      "5.718439981033448\n",
      "4.490234910939063\n",
      "5.78606974568612\n",
      "4.444018450235198\n",
      "4.345011712095221\n",
      "3.597050411817094\n",
      "4.6672805503839925\n",
      "4.1539918964886\n",
      "4.133959987020718\n",
      "6.740387767354219\n"
     ]
    }
   ],
   "source": [
    "# Generate random numbers from interval [3, 7)\n",
    "def my_random():\n",
    "    # Random, scale, shift, return\n",
    "    return 4*random.random() + 3\n",
    "\n",
    "for i in range(10):\n",
    "    print(my_random())"
   ]
  },
  {
   "cell_type": "code",
   "execution_count": 6,
   "metadata": {},
   "outputs": [
    {
     "name": "stdout",
     "output_type": "stream",
     "text": [
      "Help on method uniform in module random:\n",
      "\n",
      "uniform(a, b) method of random.Random instance\n",
      "    Get a random number in the range [a, b) or [a, b] depending on rounding.\n",
      "\n"
     ]
    }
   ],
   "source": [
    "help(random.uniform)"
   ]
  },
  {
   "cell_type": "code",
   "execution_count": 7,
   "metadata": {},
   "outputs": [],
   "source": [
    "num = [random.uniform(3, 7) for i in range(10)]"
   ]
  },
  {
   "cell_type": "code",
   "execution_count": 8,
   "metadata": {},
   "outputs": [
    {
     "data": {
      "text/plain": [
       "list"
      ]
     },
     "execution_count": 8,
     "metadata": {},
     "output_type": "execute_result"
    }
   ],
   "source": [
    "type(num)"
   ]
  },
  {
   "cell_type": "code",
   "execution_count": 11,
   "metadata": {},
   "outputs": [
    {
     "data": {
      "text/plain": [
       "[<matplotlib.lines.Line2D at 0x185d7213278>]"
      ]
     },
     "execution_count": 11,
     "metadata": {},
     "output_type": "execute_result"
    },
    {
     "data": {
      "image/png": "[encoded data removed]",
      "text/plain": [
       "<matplotlib.figure.Figure at 0x185d7185eb8>"
      ]
     },
     "metadata": {},
     "output_type": "display_data"
    }
   ],
   "source": [
    "plt.plot(list(range(10)), num, 'ro')"
   ]
  },
  {
   "cell_type": "markdown",
   "metadata": {},
   "source": [
    "`random()` and `uniform()` are both uniform distributions."
   ]
  },
  {
   "cell_type": "code",
   "execution_count": 12,
   "metadata": {},
   "outputs": [
    {
     "name": "stdout",
     "output_type": "stream",
     "text": [
      "Help on method normalvariate in module random:\n",
      "\n",
      "normalvariate(mu, sigma) method of random.Random instance\n",
      "    Normal distribution.\n",
      "    \n",
      "    mu is the mean, and sigma is the standard deviation.\n",
      "\n"
     ]
    }
   ],
   "source": [
    "help(random.normalvariate)"
   ]
  },
  {
   "cell_type": "code",
   "execution_count": 24,
   "metadata": {
    "collapsed": true
   },
   "outputs": [],
   "source": [
    "num = [random.normalvariate(0., .3) for i in range(20)]"
   ]
  },
  {
   "cell_type": "code",
   "execution_count": 25,
   "metadata": {},
   "outputs": [
    {
     "data": {
      "text/plain": [
       "[0.2742048679338076,\n",
       " 0.21802409445590978,\n",
       " 0.2608491242655738,\n",
       " -0.003511509718776556,\n",
       " 0.4286258064903487,\n",
       " -0.3822768755255287,\n",
       " 0.5789277575404996,\n",
       " -0.7960075988153292,\n",
       " -0.3913322684779644,\n",
       " -0.3420930335058084,\n",
       " 0.3361506112651848,\n",
       " -0.06294188067229778,\n",
       " 0.32749390589358823,\n",
       " -0.2653024736422369,\n",
       " -0.06813833875959652,\n",
       " -0.39132582416196743,\n",
       " -0.07408778328481212,\n",
       " -0.11910295406042082,\n",
       " 0.4217105086385317,\n",
       " 0.17480328910441773]"
      ]
     },
     "execution_count": 25,
     "metadata": {},
     "output_type": "execute_result"
    }
   ],
   "source": [
    "num"
   ]
  },
  {
   "cell_type": "markdown",
   "metadata": {},
   "source": [
    "### Discrete Values"
   ]
  },
  {
   "cell_type": "code",
   "execution_count": 35,
   "metadata": {},
   "outputs": [],
   "source": [
    "# Rolling a dye\n",
    "num = [random.randint(1, 6) for i in range(20)]"
   ]
  },
  {
   "cell_type": "code",
   "execution_count": 36,
   "metadata": {},
   "outputs": [
    {
     "data": {
      "text/plain": [
       "[6, 6, 4, 4, 4, 1, 1, 3, 5, 1, 5, 6, 1, 5, 1, 6, 3, 6, 1, 1]"
      ]
     },
     "execution_count": 36,
     "metadata": {},
     "output_type": "execute_result"
    }
   ],
   "source": [
    "num"
   ]
  },
  {
   "cell_type": "code",
   "execution_count": 37,
   "metadata": {
    "collapsed": true
   },
   "outputs": [],
   "source": [
    "choices = ['rock', 'paper', 'scissors']\n",
    "outcomes = [random.choice(choices) for i in range(20)]"
   ]
  },
  {
   "cell_type": "code",
   "execution_count": 38,
   "metadata": {},
   "outputs": [
    {
     "data": {
      "text/plain": [
       "['paper',\n",
       " 'scissors',\n",
       " 'paper',\n",
       " 'paper',\n",
       " 'rock',\n",
       " 'rock',\n",
       " 'scissors',\n",
       " 'rock',\n",
       " 'rock',\n",
       " 'scissors',\n",
       " 'paper',\n",
       " 'scissors',\n",
       " 'rock',\n",
       " 'paper',\n",
       " 'rock',\n",
       " 'rock',\n",
       " 'paper',\n",
       " 'scissors',\n",
       " 'scissors',\n",
       " 'paper']"
      ]
     },
     "execution_count": 38,
     "metadata": {},
     "output_type": "execute_result"
    }
   ],
   "source": [
    "outcomes"
   ]
  },
  {
   "cell_type": "markdown",
   "metadata": {},
   "source": [
    "## Random Walk"
   ]
  },
  {
   "cell_type": "code",
   "execution_count": 42,
   "metadata": {
    "collapsed": true
   },
   "outputs": [],
   "source": [
    "def random_walk(n):\n",
    "    \"\"\"Return coordinates after 'n' block random walk\"\"\"\n",
    "    x = 0\n",
    "    y = 0\n",
    "    for i in range(n):\n",
    "        step = random.choice(('N', 'S', 'E', 'W'))\n",
    "        if step == 'N':\n",
    "            y += 1\n",
    "        elif step == 'S':\n",
    "            y = y - 1\n",
    "        elif step == 'E':\n",
    "            x += 1\n",
    "        else:\n",
    "            x = x - 1\n",
    "    return (x, y)"
   ]
  },
  {
   "cell_type": "code",
   "execution_count": 57,
   "metadata": {},
   "outputs": [
    {
     "name": "stdout",
     "output_type": "stream",
     "text": [
      "(1, -1) Distance from home: 2\n",
      "(0, 0) Distance from home: 0\n",
      "(-3, 1) Distance from home: 4\n",
      "(1, -5) Distance from home: 6\n",
      "(1, -1) Distance from home: 2\n",
      "(1, -3) Distance from home: 4\n",
      "(-3, 1) Distance from home: 4\n",
      "(1, -5) Distance from home: 6\n",
      "(6, 2) Distance from home: 8\n",
      "(3, 3) Distance from home: 6\n",
      "(0, -2) Distance from home: 2\n",
      "(2, 2) Distance from home: 4\n",
      "(1, 1) Distance from home: 2\n",
      "(1, 1) Distance from home: 2\n",
      "(-2, -2) Distance from home: 4\n",
      "(1, -5) Distance from home: 6\n",
      "(1, -1) Distance from home: 2\n",
      "(-1, 1) Distance from home: 2\n",
      "(-2, 4) Distance from home: 6\n",
      "(-1, -1) Distance from home: 2\n",
      "(2, 2) Distance from home: 4\n",
      "(2, 0) Distance from home: 2\n",
      "(1, -1) Distance from home: 2\n",
      "(2, -2) Distance from home: 4\n",
      "(1, 3) Distance from home: 4\n"
     ]
    }
   ],
   "source": [
    "for i in range(25):\n",
    "    walk = random_walk(10)\n",
    "    print('{} Distance from home: {}'\n",
    "          .format(walk, abs(walk[0])+abs(walk[1])))"
   ]
  },
  {
   "cell_type": "code",
   "execution_count": 71,
   "metadata": {
    "collapsed": true
   },
   "outputs": [],
   "source": [
    "def random_walk_2(n):\n",
    "    \"\"\"Return cooradinates after 'n' block random walk.\"\"\"\n",
    "    x, y = 0, 0\n",
    "    for i in range(n):\n",
    "        (dx, dy) = random.choice([(0, 1), (0, -1), \n",
    "                                (1, 0), (-1, 0)])\n",
    "        x, y = x+dx, y+dy\n",
    "    return (x, y)"
   ]
  },
  {
   "cell_type": "code",
   "execution_count": 76,
   "metadata": {},
   "outputs": [
    {
     "name": "stdout",
     "output_type": "stream",
     "text": [
      "(1, 5) Distance from home: 6\n",
      "(1, -3) Distance from home: 4\n",
      "(0, 2) Distance from home: 2\n",
      "(0, 2) Distance from home: 2\n",
      "(0, -4) Distance from home: 4\n",
      "(5, -1) Distance from home: 6\n",
      "(-1, 3) Distance from home: 4\n",
      "(0, 2) Distance from home: 2\n",
      "(3, -1) Distance from home: 4\n",
      "(0, -2) Distance from home: 2\n",
      "(0, -2) Distance from home: 2\n",
      "(-1, 3) Distance from home: 4\n",
      "(-1, -1) Distance from home: 2\n",
      "(-1, 3) Distance from home: 4\n",
      "(3, 1) Distance from home: 4\n",
      "(0, -2) Distance from home: 2\n",
      "(2, 0) Distance from home: 2\n",
      "(1, 3) Distance from home: 4\n",
      "(0, 0) Distance from home: 0\n",
      "(-2, 2) Distance from home: 4\n",
      "(1, -1) Distance from home: 2\n",
      "(-1, -1) Distance from home: 2\n",
      "(-1, 5) Distance from home: 6\n",
      "(-4, 4) Distance from home: 8\n",
      "(-1, -1) Distance from home: 2\n"
     ]
    }
   ],
   "source": [
    "for i in range(25):\n",
    "    walk = random_walk_2(10)\n",
    "    print('{} Distance from home: {}'\n",
    "          .format(walk, abs(walk[0])+abs(walk[1])))"
   ]
  },
  {
   "cell_type": "markdown",
   "metadata": {},
   "source": [
    "What is the longest random walk you can take so that *on average* you will end up 4 blocks or fewer from home ?"
   ]
  },
  {
   "cell_type": "code",
   "execution_count": 94,
   "metadata": {},
   "outputs": [
    {
     "name": "stdout",
     "output_type": "stream",
     "text": [
      "Walk size =  1, % of <= 4 blocks = 100.0%\n",
      "Walk size =  2, % of <= 4 blocks = 100.0%\n",
      "Walk size =  3, % of <= 4 blocks = 100.0%\n",
      "Walk size =  4, % of <= 4 blocks = 100.0%\n",
      "Walk size =  5, % of <= 4 blocks = 87.83%\n",
      "Walk size =  6, % of <= 4 blocks = 93.95%\n",
      "Walk size =  7, % of <= 4 blocks = 76.45%\n",
      "Walk size =  8, % of <= 4 blocks = 86.22%\n",
      "Walk size =  9, % of <= 4 blocks = 67.46%\n",
      "Walk size = 10, % of <= 4 blocks = 79.19%\n",
      "Walk size = 11, % of <= 4 blocks = 59.4%\n",
      "Walk size = 12, % of <= 4 blocks = 73.11%\n",
      "Walk size = 13, % of <= 4 blocks = 54.31%\n",
      "Walk size = 14, % of <= 4 blocks = 66.81%\n",
      "Walk size = 15, % of <= 4 blocks = 48.77%\n",
      "Walk size = 16, % of <= 4 blocks = 62.29%\n",
      "Walk size = 17, % of <= 4 blocks = 44.6%\n",
      "Walk size = 18, % of <= 4 blocks = 57.53%\n",
      "Walk size = 19, % of <= 4 blocks = 41.16%\n",
      "Walk size = 20, % of <= 4 blocks = 54.43%\n",
      "Walk size = 21, % of <= 4 blocks = 38.09%\n",
      "Walk size = 22, % of <= 4 blocks = 50.9%\n",
      "Walk size = 23, % of <= 4 blocks = 35.2%\n",
      "Walk size = 24, % of <= 4 blocks = 48.59%\n",
      "Walk size = 25, % of <= 4 blocks = 33.29%\n",
      "Walk size = 26, % of <= 4 blocks = 45.41%\n",
      "Walk size = 27, % of <= 4 blocks = 30.78%\n",
      "Walk size = 28, % of <= 4 blocks = 43.16%\n",
      "Walk size = 29, % of <= 4 blocks = 29.85%\n",
      "Walk size = 30, % of <= 4 blocks = 40.63%\n"
     ]
    }
   ],
   "source": [
    "# Number of walks for each walk size\n",
    "number_of_walks = 20000\n",
    "for walk_length in range(1, 31):\n",
    "    count = 0\n",
    "    for i in range(number_of_walks):\n",
    "        (x, y) = random_walk_2(walk_length)\n",
    "        distance = abs(x) + abs(y)\n",
    "        if distance <= 4: # 4 blocks or less\n",
    "            count += 1\n",
    "    pct = float(count) / number_of_walks * 100\n",
    "    print('Walk size = {0:2}, % of <= 4 blocks = {1:.4}%'\n",
    "          .format(walk_length, pct))"
   ]
  },
  {
   "cell_type": "markdown",
   "metadata": {},
   "source": [
    "Plot the results in to see the trend"
   ]
  },
  {
   "cell_type": "code",
   "execution_count": 101,
   "metadata": {
    "collapsed": true
   },
   "outputs": [],
   "source": [
    "number_of_walks = 20000\n",
    "max_walk_size = 50\n",
    "pct = []\n",
    "for walk_length in range(1, max_walk_size+1):\n",
    "    count = 0\n",
    "    for i in range(number_of_walks):\n",
    "        (x, y) = random_walk_2(walk_length)\n",
    "        distance = abs(x) + abs(y)\n",
    "        if distance <= 4: # 4 blocks or less\n",
    "            count += 1\n",
    "    pct.append(float(count) / number_of_walks * 100)"
   ]
  },
  {
   "cell_type": "code",
   "execution_count": 106,
   "metadata": {},
   "outputs": [
    {
     "data": {
      "text/plain": [
       "<matplotlib.text.Text at 0x185d91f0fd0>"
      ]
     },
     "execution_count": 106,
     "metadata": {},
     "output_type": "execute_result"
    },
    {
     "data": {
      "image/png": "[encoded data removed]",
      "text/plain": [
       "<matplotlib.figure.Figure at 0x185d92a1ba8>"
      ]
     },
     "metadata": {},
     "output_type": "display_data"
    }
   ],
   "source": [
    "plt.plot(list(range(1,max_walk_size+1)), pct, 'b-o')\n",
    "plt.xlabel('Walk Size (blocks)')\n",
    "plt.ylabel('% of Distance <= 4 blocks')"
   ]
  },
  {
   "cell_type": "markdown",
   "metadata": {},
   "source": [
    "Observations:\n",
    "- Generally, probability decreases with increase in walk size.\n",
    "- Even number of walk size has a higher probability than the adjacent odd numbers.\n",
    "- After 22 blocks, the probabily is smaller than 50%"
   ]
  },
  {
   "cell_type": "markdown",
   "metadata": {},
   "source": [
    "This is **Monte Carlo** method (experiment) that relies on repeated random sampling to obtain numerical results."
   ]
  }
 ],
 "metadata": {
  "kernelspec": {
   "display_name": "Python 3",
   "language": "python",
   "name": "python3"
  },
  "language_info": {
   "codemirror_mode": {
    "name": "ipython",
    "version": 3
   },
   "file_extension": ".py",
   "mimetype": "text/x-python",
   "name": "python",
   "nbconvert_exporter": "python",
   "pygments_lexer": "ipython3",
   "version": "3.6.1"
  }
 },
 "nbformat": 4,
 "nbformat_minor": 2
}
