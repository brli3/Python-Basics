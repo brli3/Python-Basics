{
 "cells": [
  {
   "cell_type": "markdown",
   "metadata": {
    "collapsed": true
   },
   "source": [
    "# Python Basics - Data Structures"
   ]
  },
  {
   "cell_type": "markdown",
   "metadata": {},
   "source": [
    "## List and Tuple"
   ]
  },
  {
   "cell_type": "code",
   "execution_count": 1,
   "metadata": {},
   "outputs": [
    {
     "name": "stdout",
     "output_type": "stream",
     "text": [
      "[[1, 2], 'cfd', 3]\n",
      "('heat', 4.5, [2.6, 'transfer'], 0.001)\n",
      "(2.34, 'fea', 3.4, -20.2)\n",
      "(2.3,)\n",
      "2.3\n"
     ]
    }
   ],
   "source": [
    "lis1 = [[1, 2], 'cfd', 3]\n",
    "tup1 = ('heat', 4.5, [2.6,'transfer'], 1e-3)\n",
    "tup2 = 2.34, 'fea', 3.4, -20.2  # parentheses are optional\n",
    "tup3 = 2.3, # or (2.3,)\n",
    "tup4 = (2.3) # a number, not a tuple\n",
    "print(lis1)\n",
    "print(tup1)\n",
    "print(tup2)\n",
    "print(tup3)\n",
    "print(tup4) "
   ]
  },
  {
   "cell_type": "code",
   "execution_count": 2,
   "metadata": {},
   "outputs": [
    {
     "name": "stdout",
     "output_type": "stream",
     "text": [
      "3\n",
      "-20.2\n",
      "['cfd', 3]\n",
      "('heat', 4.5, [2.6, 'transfer'])\n",
      "2\n",
      "transfer\n"
     ]
    }
   ],
   "source": [
    "# Indexing and slicing\n",
    "print(lis1[2])\n",
    "print(tup2[-1])\n",
    "print(lis1[1:])\n",
    "print(tup1[:-1])\n",
    "print(lis1[0][1]) # nested lists\n",
    "print(tup1[2][1]) # nested tuples"
   ]
  },
  {
   "cell_type": "code",
   "execution_count": 3,
   "metadata": {},
   "outputs": [
    {
     "name": "stdout",
     "output_type": "stream",
     "text": [
      "[[1, 2], 'les', 3]\n",
      "('heat', 4.5, [2.6, [9.9, 'is', 'how']], 0.001)\n",
      "(2.34, 'fea', 3.4, -20.2, 2.3)\n"
     ]
    }
   ],
   "source": [
    "lis1[1] = 'les'\n",
    "print(lis1)\n",
    "#tup1[1] = 5.4  # tuples are immutable\n",
    "tup1[2][1] = [9.9, 'is', 'how'] # the item is mutable, i.e. a list.\n",
    "print(tup1)\n",
    "tup5 = tup2 + tup3 # Concatenation\n",
    "print(tup5)"
   ]
  },
  {
   "cell_type": "code",
   "execution_count": 4,
   "metadata": {},
   "outputs": [
    {
     "name": "stdout",
     "output_type": "stream",
     "text": [
      "[1, 2] les 3\n",
      "[1, 2] les 3\n",
      "2.34 fea 3.4 -20.2\n",
      "2.34 fea 3.4 -20.2\n"
     ]
    }
   ],
   "source": [
    "a, b, c = lis1 # unpack list\n",
    "print(a, b, c)\n",
    "[a, b, c] = lis1\n",
    "print(a, b, c)\n",
    "a, b, c, d = tup2 # unpack tuple\n",
    "print(a, b, c, d)\n",
    "(a, b, c, d) = tup2\n",
    "print(a, b, c, d)"
   ]
  },
  {
   "cell_type": "markdown",
   "metadata": {},
   "source": [
    "### The fastest way to swap two variables in Python - use tuples"
   ]
  },
  {
   "cell_type": "code",
   "execution_count": 5,
   "metadata": {},
   "outputs": [
    {
     "name": "stdout",
     "output_type": "stream",
     "text": [
      "(1, 2)\n",
      "(2, 1)\n"
     ]
    }
   ],
   "source": [
    "a = 1; b=2\n",
    "print((a, b))\n",
    "a, b = b, a\n",
    "print((a, b))"
   ]
  },
  {
   "cell_type": "markdown",
   "metadata": {},
   "source": [
    "## Set"
   ]
  },
  {
   "cell_type": "code",
   "execution_count": 6,
   "metadata": {},
   "outputs": [
    {
     "name": "stdout",
     "output_type": "stream",
     "text": [
      "{1, 2, 3, 'set', (3, 4)}\n",
      "<class 'set'>\n",
      "{(1, 2), 2, 4}\n",
      "{1, 2, 'tuple'}\n",
      "{1, 3, 'list'}\n",
      "{1, 2, 3, 4, 'list', 'tuple'}\n",
      "{2, 3, 4, 'list', 'tuple'}\n",
      "{3, 4, 'list', 'tuple'}\n"
     ]
    }
   ],
   "source": [
    "set1 = {1, 2, 3, (3, 4), 'set'}\n",
    "print(set1)\n",
    "print(type(set1))\n",
    "#set2 = {2, 4, [1, 2]}  # cannot put mutable element such as list\n",
    "set2 = {2, 4, (1, 2)}\n",
    "print(set2)\n",
    "# convert to a set from lists or tuples\n",
    "set3 = set((1, 2, 'tuple'))\n",
    "set4 = set([1, 3, 'list'])\n",
    "print(set3)\n",
    "print(set4)\n",
    "set5 = set()\n",
    "set5.add(1) # add one element\n",
    "set5.update([1, 2, 3, 4], ('tuple',), ['list'])\n",
    "print(set5)\n",
    "set5.remove(1)\n",
    "print(set5)\n",
    "set5.discard(2)\n",
    "print(set5)"
   ]
  },
  {
   "cell_type": "code",
   "execution_count": 7,
   "metadata": {},
   "outputs": [
    {
     "name": "stdout",
     "output_type": "stream",
     "text": [
      "{1, 2, 3, 4, 5, 6, 7, 9}\n",
      "{1, 2, 3, 4, 5, 6, 7, 9}\n",
      "{1, 3, 5}\n",
      "{1, 3, 5}\n",
      "{9, 7}\n",
      "{2, 4, 6}\n",
      "{2, 4, 6}\n"
     ]
    }
   ],
   "source": [
    "# set operation\n",
    "set6 = {1, 2, 3, 4, 5, 6}\n",
    "set7 = set([1, 3, 5, 7, 9])\n",
    "print(set6 | set7)\n",
    "print(set6.union(set7))\n",
    "print(set6 & set7)\n",
    "print(set7.intersection(set6))\n",
    "print(set7 - set6)\n",
    "print(set6 - set7)\n",
    "print(set6.difference(set7))"
   ]
  },
  {
   "cell_type": "markdown",
   "metadata": {},
   "source": [
    "## Dictionary"
   ]
  },
  {
   "cell_type": "code",
   "execution_count": 8,
   "metadata": {},
   "outputs": [
    {
     "name": "stdout",
     "output_type": "stream",
     "text": [
      "{'id': '54234', 'Name': 'Brandon', 2: [1, 1]}\n",
      "Brandon\n",
      "{'id': '54234', 'Name': 'Brandon', 2: [1, 1], 'Month': 'January'}\n",
      "{'id': '54234', 'Name': 'Brandon', 2: [1.0, 1.0], 'Month': 'January'}\n",
      "{'Name': 'Brandon', 2: [1.0, 1.0], 'Month': 'January'}\n",
      "3\n"
     ]
    }
   ],
   "source": [
    "dic1 = {'id':'54234', 'Name':'Brandon', 2:[1, 1]}\n",
    "type(dic1)\n",
    "print(dic1)\n",
    "print(dic1['Name'])\n",
    "dic1['Month'] = 'January'\n",
    "print(dic1)\n",
    "dic1[2] = [1.0, 1.0]\n",
    "print(dic1)\n",
    "del dic1['id']\n",
    "print(dic1)\n",
    "print(len(dic1))"
   ]
  }
 ],
 "metadata": {
  "kernelspec": {
   "display_name": "Python 3",
   "language": "python",
   "name": "python3"
  },
  "language_info": {
   "codemirror_mode": {
    "name": "ipython",
    "version": 3
   },
   "file_extension": ".py",
   "mimetype": "text/x-python",
   "name": "python",
   "nbconvert_exporter": "python",
   "pygments_lexer": "ipython3",
   "version": "3.6.1"
  }
 },
 "nbformat": 4,
 "nbformat_minor": 2
}
